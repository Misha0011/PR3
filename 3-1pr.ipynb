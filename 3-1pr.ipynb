{
 "cells": [
  {
   "cell_type": "code",
   "execution_count": 7,
   "id": "093f5e6e-161d-416f-8f37-685fecf668e8",
   "metadata": {},
   "outputs": [
    {
     "name": "stdout",
     "output_type": "stream",
     "text": [
      "Solving the equation by Newton*s method x =  -0.25078400288634084\n",
      "Solving the equation by Newton*s method x =  1.664351500968656\n"
     ]
    },
    {
     "name": "stderr",
     "output_type": "stream",
     "text": [
      "C:\\Users\\tanya\\AppData\\Local\\Temp\\ipykernel_18560\\1584213365.py:10: DeprecationWarning: scipy.misc.derivative is deprecated in SciPy v1.10.0; and will be completely removed in SciPy v1.12.0. You may consider using findiff: https://github.com/maroba/findiff or numdifftools: https://github.com/pbrod/numdifftools\n",
      "  df2 = derivative(f, b, n = 2)\n",
      "C:\\Users\\tanya\\AppData\\Local\\Temp\\ipykernel_18560\\1584213365.py:15: DeprecationWarning: scipy.misc.derivative is deprecated in SciPy v1.10.0; and will be completely removed in SciPy v1.12.0. You may consider using findiff: https://github.com/maroba/findiff or numdifftools: https://github.com/pbrod/numdifftools\n",
      "  df = derivative(f,xi, n= 1)\n"
     ]
    }
   ],
   "source": [
    "import numpy as np\n",
    "import math\n",
    "from scipy.misc import derivative\n",
    "def f(x):\n",
    "     return pow(x, 4) - 4*x - 1\n",
    "\n",
    "eps = 0.001\n",
    "\n",
    "def nuton(a,b,eps):\n",
    "    df2 = derivative(f, b, n = 2)\n",
    "    if (f(b)*df2>0):\n",
    "        xi = b\n",
    "    else:\n",
    "        xi = a\n",
    "    df = derivative(f,xi, n= 1)\n",
    "    xi_1 = xi - f(xi)/df\n",
    "    while (abs(xi_1 - xi)>eps): #accuracy check\n",
    "        xi = xi_1\n",
    "        xi_1 = xi - f(xi)/df\n",
    "    return print ('Solving the equation by Newton*s method x = ', xi_1)\n",
    "nuton (-1, 0,eps)\n",
    "nuton(1,2,eps)"
   ]
  }
 ],
 "metadata": {
  "kernelspec": {
   "display_name": "Python 3 (ipykernel)",
   "language": "python",
   "name": "python3"
  },
  "language_info": {
   "codemirror_mode": {
    "name": "ipython",
    "version": 3
   },
   "file_extension": ".py",
   "mimetype": "text/x-python",
   "name": "python",
   "nbconvert_exporter": "python",
   "pygments_lexer": "ipython3",
   "version": "3.11.5"
  }
 },
 "nbformat": 4,
 "nbformat_minor": 5
}
