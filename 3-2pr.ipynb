{
 "cells": [
  {
   "cell_type": "code",
   "execution_count": 2,
   "id": "4bb6eb80-ea1a-4e00-b408-dd7e20913056",
   "metadata": {},
   "outputs": [
    {
     "name": "stdout",
     "output_type": "stream",
     "text": [
      "Solving the equation by the combined method x =  -0.2490487350493502\n",
      "Solving the equation by the combined method x =  1.6632806953915928\n"
     ]
    },
    {
     "name": "stderr",
     "output_type": "stream",
     "text": [
      "C:\\Users\\tanya\\AppData\\Local\\Temp\\ipykernel_8884\\1893620829.py:8: DeprecationWarning: scipy.misc.derivative is deprecated in SciPy v1.10.0; and will be completely removed in SciPy v1.12.0. You may consider using findiff: https://github.com/maroba/findiff or numdifftools: https://github.com/pbrod/numdifftools\n",
      "  if (derivative(f, a, n = 1)*derivative(f, a, n = 2)>0):\n",
      "C:\\Users\\tanya\\AppData\\Local\\Temp\\ipykernel_8884\\1893620829.py:19: DeprecationWarning: scipy.misc.derivative is deprecated in SciPy v1.10.0; and will be completely removed in SciPy v1.12.0. You may consider using findiff: https://github.com/maroba/findiff or numdifftools: https://github.com/pbrod/numdifftools\n",
      "  bi_1 = bi - f(bi)/derivative(f,bi, n= 1)\n"
     ]
    }
   ],
   "source": [
    "import numpy as np\n",
    "import math\n",
    "from scipy.misc import derivative\n",
    "def f(x):\n",
    "    return pow(x, 4) - 4*x - 1\n",
    "\n",
    "def komb(a,b,eps):\n",
    "    if (derivative(f, a, n = 1)*derivative(f, a, n = 2)>0):\n",
    "        a0 = a\n",
    "        b0 = b\n",
    "       \n",
    "    else:\n",
    "        a0 = b\n",
    "        b0 = a\n",
    "    ai = a0\n",
    "    bi = b0\n",
    "    while abs(ai-bi)>eps:   \n",
    "        ai_1 = ai - f(ai)*(bi - ai)/(f(bi) - f(ai))\n",
    "        bi_1 = bi - f(bi)/derivative(f,bi, n= 1) \n",
    "        ai = ai_1\n",
    "        bi = bi_1\n",
    "    x = (ai_1+bi_1)/2 \n",
    " \n",
    "    return print('Solving the equation by the combined method x = ', x)\n",
    "komb(-1,0,0.0001)\n",
    "komb(1,2,0.0001)"
   ]
  },
  {
   "cell_type": "code",
   "execution_count": null,
   "id": "7ff75914-2a55-4aa0-aa17-40c19cbade09",
   "metadata": {},
   "outputs": [],
   "source": []
  }
 ],
 "metadata": {
  "kernelspec": {
   "display_name": "Python 3 (ipykernel)",
   "language": "python",
   "name": "python3"
  },
  "language_info": {
   "codemirror_mode": {
    "name": "ipython",
    "version": 3
   },
   "file_extension": ".py",
   "mimetype": "text/x-python",
   "name": "python",
   "nbconvert_exporter": "python",
   "pygments_lexer": "ipython3",
   "version": "3.11.5"
  }
 },
 "nbformat": 4,
 "nbformat_minor": 5
}
